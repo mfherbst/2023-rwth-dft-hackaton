{
 "cells": [
  {
   "cell_type": "markdown",
   "id": "1bded2a9",
   "metadata": {},
   "source": [
    "# Analysing SCF convergence\n",
    "\n",
    "The goal of this exercise is to explain the differing convergence behaviour of SCF algorithms depending on the choice of the preconditioner $P^{-1}$ and the underlying material.\n",
    "\n",
    "For this we will find the largest and smallest eigenvalue of $(P^{-1} \\varepsilon^\\dagger)$ and $\\varepsilon^\\dagger$, where $\\varepsilon^\\dagger$ is the dielectric operator (see [../2_preconditioning.ipynb](../2_preconditioning.ipynb) ). The ratio of largest to smallest eigenvalue is the condition number\n",
    "  $$ \\kappa = \\frac{\\lambda_\\text{max}}{\\lambda_\\text{min}},$$\n",
    "which can be related to the rate of convergence. The smaller the condition number, the faster the convergence.\n",
    "\n",
    "## (a) Aluminium metal.\n",
    "We start by taking a look at a slightly cruder (thus computationally cheaper) version of our aluminium setup from above: "
   ]
  },
  {
   "cell_type": "code",
   "execution_count": null,
   "id": "b383f4b8",
   "metadata": {},
   "outputs": [],
   "source": [
    "using DFTK\n",
    "using ASEconvert\n",
    "\n",
    "function aluminium_setup(repeat=1; Ecut=7.0, kgrid=(1, 1, 1))\n",
    "    # Use ASE to make an aluminium supercell\n",
    "    pysystem = ase.build.bulk(\"Al\", cubic=true) * pytuple((repeat, 1, 1))\n",
    "    \n",
    "    # Convert to AbstractSystem and attach pseudopotentials:\n",
    "    aluminium = pyconvert(AbstractSystem, pysystem)\n",
    "    system = attach_psp(aluminium; Al=\"hgh/lda/al-q3\")\n",
    "\n",
    "    # Construct an LDA model and discretise\n",
    "    model = model_LDA(system; temperature=1e-3, symmetries=false)\n",
    "    PlaneWaveBasis(model; Ecut, kgrid)\n",
    "end"
   ]
  },
  {
   "cell_type": "markdown",
   "id": "2b287e65",
   "metadata": {},
   "source": [
    "To construct functions representing $\\varepsilon^\\dagger$ and the Kerker preconditioner $P^{-1}$.\n",
    "\n",
    "We already know that for moderate `repeat`s the convergence without mixing / preconditioner is slow:"
   ]
  },
  {
   "cell_type": "code",
   "execution_count": null,
   "id": "740390ea",
   "metadata": {},
   "outputs": [],
   "source": [
    "# Note: DFTK uses the self-adapting LdosMixing() by default, so to truly disable\n",
    "#       any preconditioning, we need to supply `mixing=SimpleMixing()` explicitly.\n",
    "scfres = self_consistent_field(aluminium_setup(3); tol=1e-8, mixing=SimpleMixing());"
   ]
  },
  {
   "cell_type": "markdown",
   "id": "80fc3577",
   "metadata": {},
   "source": [
    "while when using the Kerker preconditioner it is much faster:"
   ]
  },
  {
   "cell_type": "code",
   "execution_count": null,
   "id": "42f9ac05",
   "metadata": {},
   "outputs": [],
   "source": [
    "scfres = self_consistent_field(aluminium_setup(3); tol=1e-8, mixing=KerkerMixing());"
   ]
  },
  {
   "cell_type": "markdown",
   "id": "66c40f1c",
   "metadata": {},
   "source": [
    "Given an `scfres` one easily constructs functions representing $\\varepsilon^\\dagger$ and $P^{-1}$ with DFTK:"
   ]
  },
  {
   "cell_type": "code",
   "execution_count": null,
   "id": "6082fea1",
   "metadata": {},
   "outputs": [],
   "source": [
    "function construct_Pinv_epsilon(scfres)\n",
    "    basis = scfres.basis\n",
    "    \n",
    "    Pinv_Kerker(δρ) = DFTK.mix_density(KerkerMixing(), basis, δρ)\n",
    "    \n",
    "    function epsilon(δρ)  # Apply ε† = 1 - χ0 Khxc\n",
    "        δV   = apply_kernel(basis, δρ; ρ=scfres.ρ)\n",
    "        χ0δV = apply_χ0(scfres, δV)\n",
    "        δρ - χ0δV   \n",
    "    end    \n",
    "    \n",
    "    epsilon, Pinv_Kerker\n",
    "end"
   ]
  },
  {
   "cell_type": "markdown",
   "id": "957f4589",
   "metadata": {},
   "source": [
    "(i) Find the largest eigenvalue of $\\varepsilon^\\dagger$ for this aluminium case using `KrylovKit`. For this use the following code snippet:"
   ]
  },
  {
   "cell_type": "code",
   "execution_count": null,
   "id": "561c9477",
   "metadata": {},
   "outputs": [],
   "source": [
    "using KrylovKit\n",
    "\n",
    "scfres = self_consistent_field(aluminium_setup(3); tol=1e-8);\n",
    "epsilon, Pinv_Kerker = construct_Pinv_epsilon(scfres)\n",
    "\n",
    "λ_large, X_large, info = eigsolve(epsilon, randn(size(scfres.ρ)), 4, :LM;\n",
    "                                  tol=1e-4, eager=true, verbosity=2)\n",
    "@assert info.converged ≥ 4\n",
    "λ_max = maximum(real.(λ_large))\n",
    "\n",
    "println(\"Largest eigenvalue: $(λ_max)\")"
   ]
  },
  {
   "cell_type": "markdown",
   "id": "cedb684b",
   "metadata": {},
   "source": [
    "The smallest eigenvalue can also be determined using KrylovKit. Getting this to work reliably is a little more tricky, however. I will only show a simple setup, which has the disadvantage of being pretty slow:\n",
    "```julia\n",
    "λ_small, X_small, info = eigsolve(epsilon, randn(size(scfres.ρ)), 2, EigSorter(abs, rev=false);\n",
    "                                  tol=1e-3, eager=true, verbosity=2)\n",
    "@assert info.converged ≥ 2\n",
    "λ_min = minimum(real.(λ_small))\n",
    "\n",
    "println(\"Smallest eigenvalue: $(λ_min)\")\n",
    "```\n",
    "If this takes too long on your machine, just assume the the smallest eigenvalue is $λ_{min} = 0.952$. What is the condition number in this case?"
   ]
  },
  {
   "cell_type": "markdown",
   "id": "9b7994e1",
   "metadata": {},
   "source": [
    "The condition number of $\\varepsilon^\\dagger$ for this system should be around $30$.\n",
    "This does not sound large compared to the condition numbers you might know\n",
    "from linear systems.\n",
    "\n",
    "However, this is sufficient to cause a notable slowdown, which would be even more\n",
    "pronounced if we did not use Anderson, since we also would need to drastically\n",
    "reduce the damping (try it!)."
   ]
  },
  {
   "cell_type": "markdown",
   "id": "c2f7f065",
   "metadata": {},
   "source": [
    "(ii) Having computed the eigenvalues of the dielectric matrix\n",
    "we can now also look at the eigenmodes, which are responsible for the bad convergence behaviour.\n",
    "For example like:\n",
    "\n",
    "```julia\n",
    "using Plots\n",
    "using Statistics\n",
    "\n",
    "function plot_mode(mode)\n",
    "    # Average along z axis\n",
    "    mode_xy = mean(real.(mode), dims=3)[:, :, 1, 1]\n",
    "    heatmap(mode_xy', c=:RdBu_11, aspect_ratio=1, grid=false,\n",
    "            legend=false, clim=(-0.006, 0.006))\n",
    "end\n",
    "\n",
    "plot_mode(X_large[1])\n",
    "```\n",
    "\n",
    "Keeping in mind that the origin of the metallic ill-conditioning is termed \"charge sloshing\", how can you interpret the obtained eigenmode?"
   ]
  },
  {
   "cell_type": "markdown",
   "id": "debef14e",
   "metadata": {},
   "source": [
    "(iii) Find the largest eigenvalue for the SCF of the aluminium supercell (`repeat=3`) in case the Kerker preconditioner is used.  \n",
    "*Hint:* You can construct the operator $P^{-1} \\varepsilon^\\dagger$ by simply chaining the functions (`Pinv_Kerker ∘ epsilon`). Assuming that the smallest eigenvalue is about $0.8$, what is the condition number now? \n",
    "\n",
    "\n",
    "(iv) If you want, repeat the exercise for `repeat = 6`. You can assume the smallest eigenvalue is still about $0.95$ or $0.8$, respectively. How does the condition number change if you double the system size?\n",
    "\n",
    "Keeping in mind that the condition number is linked to the convergence speed: Which is setup should be employed to keep the number of required SCF iterations independent of system size."
   ]
  },
  {
   "cell_type": "markdown",
   "id": "44221d09",
   "metadata": {},
   "source": [
    "#### Takeaways:\n",
    "- For metals the conditioning of the dielectric matrix increases steaply with system size.\n",
    "- The Kerker preconditioner tames this and makes SCFs on large metallic systems feasible by keeping the condition number of order 1."
   ]
  },
  {
   "cell_type": "markdown",
   "id": "b8b0ce41",
   "metadata": {},
   "source": [
    "## (b) Helium chain (insulator).\n",
    "\n",
    "To prove the point that a single preconditioner (like `KerkerMixing`) is not good for all systems,\n",
    "we now consider an (insulating) chain of Helium atoms:"
   ]
  },
  {
   "cell_type": "code",
   "execution_count": null,
   "id": "6a5bbc17",
   "metadata": {},
   "outputs": [],
   "source": [
    "using DFTK\n",
    "using LinearAlgebra\n",
    "\n",
    "function helium_setup(repeat=30; Ecut=7.0, kgrid=[1, 1, 1])\n",
    "    # Directly make Helium supercell\n",
    "    a = 5.0\n",
    "    lattice = diagm([repeat * a, a, a])\n",
    "    He = ElementPsp(:He, psp=load_psp(\"hgh/lda/he-q2\"))\n",
    "    atoms = fill(He, repeat)\n",
    "    positions = [(i-1)/repeat * [1.0, 0.0, 0.0] for i in 1:repeat]\n",
    "\n",
    "    # Construct the model\n",
    "    model = model_LDA(lattice, atoms, positions; temperature=1e-3, symmetries=false)\n",
    "    PlaneWaveBasis(model; Ecut, kgrid)\n",
    "end"
   ]
  },
  {
   "cell_type": "markdown",
   "id": "cd0b5930",
   "metadata": {},
   "source": [
    "From running the SCFs using `KerkerMixing` seems like a bad idea:"
   ]
  },
  {
   "cell_type": "code",
   "execution_count": null,
   "id": "0d16c6b9",
   "metadata": {},
   "outputs": [],
   "source": [
    "scfres = self_consistent_field(helium_setup(30); tol=1e-8, mixing=KerkerMixing());"
   ]
  },
  {
   "cell_type": "code",
   "execution_count": null,
   "id": "1ec2cdf4",
   "metadata": {},
   "outputs": [],
   "source": [
    "scfres = self_consistent_field(helium_setup(30); tol=1e-8, mixing=SimpleMixing());"
   ]
  },
  {
   "cell_type": "markdown",
   "id": "dc053c65",
   "metadata": {},
   "source": [
    "Repeat the analysis from (a) for a Helium chain with `repeat=30`. To find the smallest and largest eigenvalues of $\\varepsilon^\\dagger$ and $P^{-1} \\varepsilon^\\dagger$ use"
   ]
  },
  {
   "cell_type": "code",
   "execution_count": null,
   "id": "cebba7f6",
   "metadata": {},
   "outputs": [],
   "source": [
    "using KrylovKit\n",
    "\n",
    "scfres = self_consistent_field(helium_setup(30); tol=1e-8);\n",
    "epsilon, Pinv_Kerker = construct_Pinv_epsilon(scfres)\n",
    "\n",
    "operator = epsilon\n",
    "\n",
    "λ_large, X_large, info = eigsolve(operator, randn(size(scfres.ρ)), 2, :LM;\n",
    "                                  tol=1e-3, eager=true, verbosity=2)\n",
    "@assert info.converged ≥ 2\n",
    "λ_max = maximum(real.(λ_large))\n",
    "    \n",
    "λ_small, X_small, info = eigsolve(operator, randn(size(scfres.ρ)), 2, EigSorter(abs, rev=false);\n",
    "                                  tol=1e-3, eager=true, verbosity=2)\n",
    "@assert info.converged ≥ 2\n",
    "λ_min = minimum(real.(λ_small))\n",
    "\n",
    "println(\"Smallest eigenvalue: $(λ_min)\")\n",
    "println(\"Largest eigenvalue:  $(λ_max)\")\n",
    "println(\"Condition number:    $(λ_max / λ_min)\")"
   ]
  },
  {
   "cell_type": "markdown",
   "id": "a09712d7",
   "metadata": {},
   "source": [
    "Then run the two SCFs with and without Kerker preconditioning, that is"
   ]
  },
  {
   "cell_type": "code",
   "execution_count": null,
   "id": "e35334b7",
   "metadata": {},
   "outputs": [],
   "source": [
    "scfres = self_consistent_field(helium_setup(30); tol=1e-8, mixing=SimpleMixing());"
   ]
  },
  {
   "cell_type": "markdown",
   "id": "ae8252d2",
   "metadata": {},
   "source": [
    "as well as"
   ]
  },
  {
   "cell_type": "code",
   "execution_count": null,
   "id": "9c80a0d2",
   "metadata": {},
   "outputs": [],
   "source": [
    "scfres = self_consistent_field(helium_setup(30); tol=1e-8, mixing=KerkerMixing());"
   ]
  },
  {
   "cell_type": "markdown",
   "id": "3a8afa19",
   "metadata": {},
   "source": [
    "and explain the observations with respect to convergence, taking your findings on the eigenvalues of $\\varepsilon^\\dagger$ and $P^{-1} \\varepsilon^\\dagger$ into account."
   ]
  },
  {
   "cell_type": "markdown",
   "id": "e9591a92",
   "metadata": {},
   "source": [
    "#### Takeaways:\n",
    "- For insulating systems the best approach is to not use any mixing.\n",
    "- **The ideal mixing** strongly depends on the dielectric properties of system which is studied (metal versus insulator versus semiconductor)."
   ]
  },
  {
   "cell_type": "markdown",
   "id": "c1e8e153",
   "metadata": {},
   "source": [
    "## (c) Investigating other sources of ill-conditioning\n",
    "\n",
    "Originating from the mathematical expression of the dielectric matrix\n",
    "\n",
    "$$\n",
    "\\varepsilon^\\dagger = 1 - \\chi_0 K = \\varepsilon^\\dagger = 1 - \\chi_0 (v_c + K_\\text{xc})\n",
    "$$\n",
    "\n",
    "we can identify a number of sources of ill-conditioning, going beyond the case of charge sloshing we have been focusing on so far.  Without going into too many details (see [M. Herbst, A. Levitt. *J. Phys.: Condens. Matter* **33** 085503 (2021) DOI: 10.1088/1361-648x/abcbdb](http://dx.doi.org/10.1088/1361-648x/abcbdb) if you are interested), the sources of ill-conditioning in the dielectric operator are:\n",
    "\n",
    "1. $\\varepsilon^\\dagger$ has small eigenvalues, i.e. eigenvalues substantially smaller than $1$.   \n",
    "  It can be shown that $v_c$ is a positive operator with eigenvalues larger than $1$ and that $\\chi_0$ is non-positive. Usually the $v_c$ term of the kernel dominates over $K_\\text{xc}$, such that in most cases $\\varepsilon^\\dagger$ has a smallest eigenvalue around $1$. In this type of instability therefore $K_\\text{xc}$ dominates over $v_c$, which usually is associated with symmetry breaking, e.g. a paramagnetic system close to a ferromagnetic phase transition.\n",
    "2. Large modes of $\\chi_0$ causing large eigenvalues in $\\varepsilon^\\dagger$.  \n",
    "  A typical case are localised $d$- or $f$-states near the Fermi level.\n",
    "3. Large eigenvalues of $v_c$: This is the familiar case of **charge sloshing** and was discussed in [2_preconditioning.ipynb](/notebooks/2_preconditioning.ipynb).\n",
    "\n",
    "**Exercise:**\n",
    "There are thus plenty more situations where investigating the eigenvalues of the dielectric matrix with and without preconditioning is insightful. If you are interested in running any of these analyses, please contact us during the exercises and we will give you further instructions:\n",
    "\n",
    "1. Near a magnetic phase transition: Forcing iron into a collinear spin solution and finding the spin-breaking mode in the dielectric matrix.\n",
    "2. Investigating the convergence of an isolated oxygen atom as a proxy to understand the ill-conditioning of localised $p$, $d$ or $f$ states.\n",
    "3. The effectiveness of the LDOS preconditioning on large mixed systems, investigated using a pseudo-1D model system (mixed sodium-helium-chain)."
   ]
  }
 ],
 "metadata": {
  "@webio": {
   "lastCommId": null,
   "lastKernelId": null
  },
  "kernelspec": {
   "display_name": "Julia 1.8.4",
   "language": "julia",
   "name": "julia-1.8"
  },
  "language_info": {
   "file_extension": ".jl",
   "mimetype": "application/julia",
   "name": "julia",
   "version": "1.8.4"
  }
 },
 "nbformat": 4,
 "nbformat_minor": 5
}
