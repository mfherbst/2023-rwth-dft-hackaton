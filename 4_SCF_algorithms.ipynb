{
 "cells": [
  {
   "cell_type": "markdown",
   "id": "incoming-niagara",
   "metadata": {},
   "source": [
    "# SCF algorithms\n",
    "\n",
    "As we discussed in [2_preconditioning.ipynb](/notebooks/2_preconditioning.ipynb) the self-consistent field procedure required to solve the DFT problem can be written as a fixed-point problem\n",
    "$$ F(\\rho) = \\rho $$\n",
    "where $F$ represents the basic SCF step. That is the construction of the Kohn-Sham Hamiltonian $H(\\rho)$ given the density $\\rho$, followed its diagonalisation to obtain its eigenpairs $(\\varepsilon_{k i}, \\psi_{ki})$\n",
    "and from these a new density\n",
    "$$ \\rho(r) = \\sum_{k\\in\\text{BZ}} \\sum_i f\\left(\\frac{\\varepsilon_{ki} - \\varepsilon_F}{\\theta}\\right) \\, \\psi_{ki}(r) \\, \\psi_{ki}^\\ast(r)$$\n",
    "with the Fermi level $\\varepsilon_F$ chosen to conserve the number of electrons.\n",
    "\n",
    "In this exercise we will take the function $F$ for \"granted\" (i.e. delivered by DFTK) and we will investigate multiple algorthms to find the fixed-point density satisfying $F(\\rho) = \\rho $. Our setting is defined by the following function, which builds and discretises an LDA model for an aluminium supercell, see [2_preconditioning.ipynb](/notebooks/2_preconditioning.ipynb) for details."
   ]
  },
  {
   "cell_type": "code",
   "execution_count": null,
   "id": "272b1196",
   "metadata": {},
   "outputs": [],
   "source": [
    "using DFTK\n",
    "using ASEconvert\n",
    "\n",
    "function aluminium_setup(repeat=1; Ecut=13.0, kgrid=(2, 2, 2))\n",
    "    # Use ASE to make an aluminium supercell\n",
    "    pysystem = ase.build.bulk(\"Al\", cubic=true) * pytuple((repeat, 1, 1))\n",
    "    pysystem.rattle()  # Displace atoms a little (makes problem harder)\n",
    "    \n",
    "    # Convert to AbstractSystem and attach pseudopotentials:\n",
    "    aluminium = pyconvert(AbstractSystem, pysystem)\n",
    "    system = attach_psp(aluminium; Al=\"hgh/lda/al-q3\")\n",
    "\n",
    "    # Construct an LDA model and discretise\n",
    "    model = model_LDA(system; temperature=1e-3, smearing=Smearing.Gaussian())\n",
    "    PlaneWaveBasis(model; Ecut, kgrid)\n",
    "end"
   ]
  },
  {
   "cell_type": "markdown",
   "id": "differential-spyware",
   "metadata": {},
   "source": [
    "**(a) Fixed-point iterations.** The easiest way to solve $F(\\rho) = \\rho$ are fixed-point iterations, i.e.\n",
    "$$ \\rho_{n+1} = F(\\rho_n), $$\n",
    "starting from a hopefully good initial guess $\\rho_0$. DFTK automatically provides a reasonable\n",
    "guess density, such that we only need to take care of the iterations themselves.\n",
    "In the language of DFTK this algorithm is written as:"
   ]
  },
  {
   "cell_type": "code",
   "execution_count": null,
   "id": "advance-brunswick",
   "metadata": {},
   "outputs": [],
   "source": [
    "function fixed_point_iteration(F, ρ₀, maxiter; tol)\n",
    "    # F:        The SCF step function\n",
    "    # ρ₀:       The initial guess density\n",
    "    # maxiter:  The maximal number of iterations to be performed\n",
    "    # tol:      The selected convergence tolerance\n",
    "    \n",
    "    ρ  = ρ₀\n",
    "    Fρ = F(ρ)\n",
    "    for n = 1:maxiter \n",
    "        # If change less than tolerance, break iterations:\n",
    "        if norm(Fρ - ρ) < tol\n",
    "            break\n",
    "        end\n",
    "        ρ  = Fρ\n",
    "        Fρ = F(ρ)\n",
    "    end\n",
    "    \n",
    "    # Return some stuff DFTK needs ...\n",
    "    (fixpoint=ρ, converged=norm(Fρ-ρ) < tol)\n",
    "end;\n",
    "\n",
    "# use this algorithm inside DFTK's SCF for solving the silicon problem\n",
    "# (the other parameters are needed to overwrite some DFTK defaults we don't want to use yet).\n",
    "self_consistent_field(aluminium_setup(1); solver=fixed_point_iteration, damping=1.0,\n",
    "                                          maxiter=40, mixing=SimpleMixing());"
   ]
  },
  {
   "cell_type": "markdown",
   "id": "blocked-acting",
   "metadata": {},
   "source": [
    "As can be observed this algorithm is not very good and in fact even fails to converge albeit we are only looking at a very simple system.\n",
    "\n",
    "This is a known limitation of this algorithm, which is why it is not used in practice. Instead one introduces a so-called damping parameter $\\alpha$, which is given a value between $0$ and $1$. One now iterates as follows:\n",
    "$$ \\rho_{n+1} = \\rho_{n} + \\alpha (F(\\rho_n) - \\rho_n) $$\n",
    "In other words the update $F(\\rho_n) - \\rho_n$ proposed in the $n$-th SCF step is not fully taken, but scaled-down by the damping $\\alpha$.\n",
    "\n",
    "Modify `fixed_point_iteration` such that it supports this *damped* fixed-point iteration. In other words implement damping *inside* your algorithm and not by changing the `damping` parameter of the `self_consistent_field` function driving the SCF.  \n",
    "Using your algorithm try different values for $\\alpha$ between $0$ and $1$ and estimate roughly the $\\alpha$ which gives fastest convergence. For which $\\alpha$ do you observe no convergence at all?\n",
    "\n",
    "**Remark:** The observations you make here are general. One can proove that every SCF converges (locally) if a small enough $\\alpha > 0$ is chosen."
   ]
  },
  {
   "cell_type": "markdown",
   "id": "4276a981",
   "metadata": {},
   "source": [
    "**(b) Anderson acceleration.** The `fixed_point_iteration` function above (with the damping extension) actually already covers the main gist of the DFT algorithms used in practice. One additional idea to make things converge faster is Anderson acceleration, where not only $\\rho_n$ and $F(\\rho_n)$, but also older iterates are used to propose the next density.\n",
    "\n",
    "For Anderson one exploits that the update $R(\\rho) = F(\\rho) - \\rho$ is also the residual of the fixed-point problem $F(\\rho) = \\rho$, i.e. how far away we are from the fixed-point density. A good next density $\\rho_{n+1}$ therefore should be found by minimising an approximation for $R(\\rho_{n+1})$. Assuming the SCF was linear in the density (which it is not), a good idea is to find a linear combination of residuals\n",
    "$$\\min_{\\beta_i} \\left\\| \\sum_i \\beta_i R(\\rho_i) \\right\\|^2$$\n",
    "which has the smallest possible norm and to use these coefficients $\\beta_i$ to extrapolate the next\n",
    "density\n",
    "$$ \\rho_{n+1} =  \\sum_i \\beta_i (\\rho_i + \\alpha R(\\rho_i)) $$\n",
    "where you notice the \"standard\" damped fixed-point iteration in the summed terms.\n",
    "\n",
    "In terms of an algorithm this is"
   ]
  },
  {
   "cell_type": "code",
   "execution_count": null,
   "id": "0f3b2c79",
   "metadata": {},
   "outputs": [],
   "source": [
    "function anderson_iteration(F, ρ₀, maxiter; tol)\n",
    "    # F:        The SCF step function\n",
    "    # ρ₀:       The initial guess density\n",
    "    # maxiter:  The maximal number of iterations to be performed\n",
    "    # tol:      The selected convergence tolerance\n",
    "    \n",
    "    converged = false\n",
    "    ρ  = ρ₀\n",
    "    ρs = []\n",
    "    Rs = []\n",
    "    for n = 1:maxiter\n",
    "        Fρ = F(ρ)\n",
    "        Rρ = Fρ - ρ\n",
    "        converged = norm(Rρ) < tol\n",
    "        converged && break\n",
    "        \n",
    "        ρnext = vec(ρ) .+ vec(Rρ)\n",
    "        if !isempty(Rs)\n",
    "            M = hcat(Rs...) .- vec(Rρ)\n",
    "            βs = -(M \\ vec(Rρ))\n",
    "            \n",
    "            for (iβ, β) in enumerate(βs)\n",
    "                ρnext .+= β .* (ρs[iβ] .- vec(ρ) .+ Rs[iβ] .- vec(Rρ))\n",
    "            end\n",
    "        end\n",
    "                    \n",
    "        push!(ρs, vec(ρ))\n",
    "        push!(Rs, vec(Rρ))\n",
    "        ρ = reshape(ρnext, size(ρ₀)...)\n",
    "    end\n",
    "    \n",
    "    # Return some stuff DFTK needs ...\n",
    "    (fixpoint=ρ, converged=converged)\n",
    "end"
   ]
  },
  {
   "cell_type": "markdown",
   "id": "c405d1b3",
   "metadata": {},
   "source": [
    "To work with this algorithm we will use DFTK's intrinsic mechanism to choose a damping. The syntax for this is\n",
    "\n",
    "```julia\n",
    "repeat = 1\n",
    "self_consistent_field(aluminium_setup(repeat);\n",
    "                      solver=anderson_iteration,\n",
    "                      damping=0.8, maxiter=40,\n",
    "                      mixing=SimpleMixing());\n",
    "```\n",
    "to choose a damping of $\\alpha = 0.8$ and run for at most `maxiter` iterations.\n",
    "\n",
    "(i) Based on this Anderson implementation verify (by making a few experiments) that the algorithm converges for `repeat=1` for any $0 < \\alpha \\leq 2$. You may now use the `damping` parameter for changing the value $\\alpha$ used by the SCF. State the number of iterations and runtimes you observe.\n",
    "\n",
    "(ii) Pick $\\alpha = 0.8$ and make the problem harder by increasing `repeat` (e.g. `2`, `4`, `6`, `8`). Can you make Anderson fail to converge? What do you notice in terms of the number of iterations and runtimes?"
   ]
  },
  {
   "cell_type": "markdown",
   "id": "prescription-morrison",
   "metadata": {},
   "source": [
    "**(c) Mixing methods.** Anderson allows us to push the boundary for SCF methods, but for larger or more challenging systems it is not fully sufficient. The next ingredient for a stable SCF procedure is based on the insight that the convergence properties of an SCF provably depend on the dielectric properties of materials, which is simulated. Amongst others this is to say that insulators (like glass), semiconductors (like silicon) or metals (like aluminium) have rather differing SCF behaviours. As a result the ideal SCF procedure should be slightly different for each material.\n",
    "\n",
    "The standard approach to include material specificity into the SCF is to employ *preconditioned* damped fixed-point iterations.\n",
    "To explain the idea, let us consider again a framework without Anderson acceleration.\n",
    "Preconditioned iterations are then\n",
    "$$ \\rho_{n+1} = \\rho_{n} + \\alpha P^{-1} (F(\\rho_n) - \\rho_n), $$\n",
    "where $P^{-1}$ is a preconditioner that hopefully improve convergence.\n",
    "To re-introduce Anderson around this iteration\n",
    "just replace the previous definition of $R$ by\n",
    "$R(\\rho) = P^{-1} (F(\\rho_n) - \\rho_n)$.\n",
    "\n",
    "Finding a good preconditioner $P$ is not always easy and for some cases satisfactory options are not yet known. For our aluminium case, however, we are lucky. The `KerkerMixing` implemented in DFTK provides a good $P$ for aluminium.\n",
    "\n",
    "You might wonder about the term *mixing*. In an interdisciplinary community like DFT, different scientists use different vocabulary and \"mixing\" is the physicists' term used for preconditioning.\n",
    "\n",
    "To use `KerkerMixing` with DFTK run the SCF as follows\n",
    "```julia\n",
    "self_consistent_field(basis; damping=0.8, mixing=KerkerMixing());\n",
    "```\n",
    "\n",
    "Try this setup for different values of `repeat` and check the number of iterations needed. Other mixings DFTK has to offer are `DielectricMixing` (best for semiconductors), `SimpleMixing` (which is $P = I$, i.e. no preconditioner at all, best for insulators) or `LdosMixing` (self-adapting, suitable for both metals *or* insulators *or* inhomogeneous mixtures). Note that `LdosMixing` is the default in DFTK (i.e. used if the `mixing` parameter is *not* supplied to `self_consistent_field`. Try these mixings (`SimpleMixing`, `DielectricMixing`, `LdosMixing` and `KerkerMixing`) and summarise your findings.\n",
    "\n",
    "You should notice that choosing a preconditioner matching the material under study aids a fast SCF convergence, but that sometimes being off does not seem to do much harm for our case. For larger values of `repeat` (beyond what you can probably effort on your laptop) this is no longer true and one needs to be very careful in selecting the right preconditioner. See for example the investigation in [this paper](https://michael-herbst.com/publications/2020.09.03_ldos_preconditioning.pdf). "
   ]
  }
 ],
 "metadata": {
  "@webio": {
   "lastCommId": null,
   "lastKernelId": null
  },
  "kernelspec": {
   "display_name": "Julia 1.8.4",
   "language": "julia",
   "name": "julia-1.8"
  },
  "language_info": {
   "file_extension": ".jl",
   "mimetype": "application/julia",
   "name": "julia",
   "version": "1.8.4"
  }
 },
 "nbformat": 4,
 "nbformat_minor": 5
}
