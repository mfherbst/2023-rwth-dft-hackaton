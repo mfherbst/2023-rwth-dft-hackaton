{
 "cells": [
  {
   "cell_type": "markdown",
   "id": "13f4e2e1",
   "metadata": {},
   "source": [
    "# Insulators and metals\n",
    "\n",
    "In this notebook we discuss a few standard cases of materials to model. Modelling different materials will required different numerical setups, which is what we will explore here.\n",
    "\n",
    "\n",
    "## Insulators: Modelling silicon\n",
    "\n",
    "The simplest type of material to model are insulators. We will start with silicon."
   ]
  },
  {
   "cell_type": "code",
   "execution_count": null,
   "id": "7c49810e",
   "metadata": {},
   "outputs": [],
   "source": [
    "using DFTK\n",
    "using ASEconvert\n",
    "\n",
    "# Use the atomistic simulation environment (ASE) to look up the structure of bulk silicon\n",
    "# Since ASE is a python package, we need to explicitly convert to AbstractSystem,\n",
    "# the data type used for chemical systems in Julia\n",
    "silicon = pyconvert(AbstractSystem, ase.build.bulk(\"Si\"))\n",
    "\n",
    "# Attach pseudopotentials (model for electron-nuclear interaction)\n",
    "system = attach_psp(silicon; Si=\"hgh/lda/si-q4\")\n",
    "\n",
    "# Setup an LDA model in DFTK\n",
    "model = model_LDA(system)\n",
    "\n",
    "# Discretise the problem in a plane-wave basis\n",
    "# We use a mesh of 2x2x2 k-Points in the Brillouin zone\n",
    "# and an energy cutoff of 15 Hartree\n",
    "basis  = PlaneWaveBasis(model; Ecut=15, kgrid=[2, 2, 2])\n",
    "\n",
    "# Run the SCF and catch the result:\n",
    "scfres = self_consistent_field(basis, tol=1e-6);"
   ]
  },
  {
   "cell_type": "markdown",
   "id": "1be91265",
   "metadata": {},
   "source": [
    "We also plot a bandstructure, i.e. perform a plot of the eigenvalues of the $k$-point specific Hamiltonian $H_k$ versus $k$."
   ]
  },
  {
   "cell_type": "code",
   "execution_count": null,
   "id": "fc124aca",
   "metadata": {},
   "outputs": [],
   "source": [
    "using Plots\n",
    "plot_bandstructure(scfres)"
   ]
  },
  {
   "cell_type": "markdown",
   "id": "0a13c279",
   "metadata": {},
   "source": [
    "We notice a clear gap between the bands around the Fermi level (the energy zero in the plot above). This is the defining property of an insulator."
   ]
  },
  {
   "cell_type": "markdown",
   "id": "5c5d27ff",
   "metadata": {},
   "source": [
    "## Metals: Modelling aluminum\n",
    "\n",
    "**Exercise:** Try running a simulation of aluminium yourself.\n",
    "\n",
    "For aluminum a possible structural setup can again be looked up using `ASEconvert`:\n",
    "```julia\n",
    "aluminium = pyconvert(AbstractSystem, ase.build.bulk(\"Al\", cubic=true))\n",
    "system = attach_psp(aluminium; Al=\"hgh/lda/al-q3\")\n",
    "```\n",
    "\n",
    "First use the same LDA model as before, defined using the DFTK shortcut\n",
    "```julia\n",
    "model = model_LDA(system)\n",
    "```\n",
    "and use `Ecut=15` and `kgrid=[2, 2, 2]` to discretise the problem.\n",
    "\n",
    "When running the SCF like this you should observe either slow or no convergence.\n",
    "This points to the fact that modelling aluminium is clearly a little different\n",
    "than silicon.\n",
    "In fact the issue is due to aluminium being a metal,\n",
    "while silicon is an insulator / semiconductor.\n",
    "More on this below.\n",
    "\n",
    "To make progress and achieve SCF convergence add the parameter\n",
    "```julia\n",
    "model = model_LDA(system; temperature=1e-3, smearing=Smearing.Gaussian())\n",
    "```\n",
    "This is called **smearing** and is a numerical trick\n",
    "to improve the convergence for quantities which involve\n",
    "sums over $k$-Points in metals.\n",
    "As the density $\\rho$ involves such a sum, the SCF typically fails\n",
    "to converge in metals without smearing.\n",
    "\n",
    "With this setup it the SCF should succeed. Use the obtained scfres to compute the band structure of aluminium with `plot_bandstructure(scfres)`."
   ]
  },
  {
   "cell_type": "code",
   "execution_count": null,
   "id": "4febe720",
   "metadata": {},
   "outputs": [],
   "source": [
    "using DFTK\n",
    "using ASEconvert\n",
    "\n",
    "aluminium = pyconvert(AbstractSystem, ase.build.bulk(\"Al\"))\n",
    "system = attach_psp(aluminium; Al=\"hgh/lda/al-q3\")\n",
    "\n",
    "# your solution here "
   ]
  },
  {
   "cell_type": "markdown",
   "id": "e5e0e276",
   "metadata": {},
   "source": [
    "## Contrasting aluminium and silicon\n",
    "\n",
    "With these two calculations we have computed two band structures,\n",
    "one for a metal (aluminium) and one for a semiconductor (silicon).\n",
    "\n",
    "- All details of the band structure do not matter for our purposes.\n",
    "- The important difference is that silicon has a so-called **band gap**,\n",
    "  i.e. a region near the Fermi level (which is at $0$ in the shown band plots)\n",
    "  where there are no eigenvalues, i.e. no blue bands.\n",
    "  In contrast aluminium does not have this gap.\n",
    "- This makes aluminium a metal and silicon an insulator respectively semiconductor.\n",
    "\n",
    "For the numerical treatment the absence of a band gap has strong implications:\n",
    "- At the beginning of the SCF the DFT Hamiltonian $H[\\rho_n]$\n",
    "  at the current density $\\rho_n$ is only a rough approximation to the\n",
    "  converged Hamiltonian $H[\\rho_\\ast]$.\n",
    "- This means that the order of the $\\psi_{ki}$ near the Fermi level,\n",
    "  i.e. near $i = N$, may be easily swapped as many $\\psi_{ki}$\n",
    "  of similar eigenvalues $\\varepsilon_i$ are close.\n",
    "- From one iteration to the next the $\\psi_{ki}$ which are summed\n",
    "  over in the density expression\n",
    "  $$ \\rho = \\sum_{k\\in\\text{BZ}} \\sum_{i=1}^N 2 |\\psi_{ki}|^2 $$\n",
    "  may thus change (as $N$ becomes $N+1$, thus not summed over, but $N+1$ becomes $N$).\n",
    "- Without going into details the smearing temperature reduces this\n",
    "  problem by not enforcing a hard cut between the functions summed over in the density,\n",
    "  but employing a smoother cutoff function."
   ]
  },
  {
   "cell_type": "markdown",
   "id": "6cad66ed",
   "metadata": {},
   "source": [
    "## K-Point sampling versus supercells\n",
    "\n",
    "We consider the following aluminium setup, which allows to easily adjust the Monkhorst-Pack grid as well as construct a supercell of the primitive aluminium system."
   ]
  },
  {
   "cell_type": "code",
   "execution_count": null,
   "id": "9d41a2f6",
   "metadata": {},
   "outputs": [],
   "source": [
    "using DFTK\n",
    "using ASEconvert\n",
    "\n",
    "function aluminium_setup(; Ecut=10.0, kgrid=(1, 1, 1), supercell=(1, 1, 1))\n",
    "    # Use ASE to make an appropriate aluminium supercell\n",
    "    pysystem = ase.build.bulk(\"Al\") * pytuple(supercell)\n",
    "    \n",
    "    # Convert to AbstractSystem and attach pseudopotentials:\n",
    "    aluminium = pyconvert(AbstractSystem, pysystem)\n",
    "    system = attach_psp(aluminium; Al=\"hgh/lda/al-q3\")\n",
    "\n",
    "    # Construct an PBE model and discretise\n",
    "    model = model_PBE(system; temperature=1e-2, smearing=Smearing.Gaussian())\n",
    "    PlaneWaveBasis(model; Ecut, kgrid)\n",
    "end"
   ]
  },
  {
   "cell_type": "markdown",
   "id": "b0780dac",
   "metadata": {},
   "source": [
    "As discussed in lectures, modelling supercells of the system is exactly equivalent to using a particular Monkhorst-Pack $k$-point grid. We will now show this numerically.\n",
    "\n",
    "**Exercise:**\n",
    "Run a `(4, 1, 1)` supercell calculation using a single $k$-point and a tight density convergence (`tol=1e-8`) and record the final energy per atom in the unit cell. Repeat the calculation for a unit cell `supercell=(1, 1, 1)` and `kgrid=(4, 1, 1)` and again record the *energy per atom* (keeping in mind that the cells contain a different number of aluminium atoms). What do you notice? Check whether this result is dependent on supercell choice or the plane-wave discretisation."
   ]
  },
  {
   "cell_type": "code",
   "execution_count": null,
   "id": "1bd15fbe",
   "metadata": {},
   "outputs": [],
   "source": [
    "# Your solution here ... "
   ]
  },
  {
   "cell_type": "markdown",
   "id": "51db619c",
   "metadata": {},
   "source": [
    "## Modelling isolated systems\n",
    "\n",
    "DFT codes based on plane-wave discretisations (such as DFTK) are by nature most ideally suited for problems with periodic boundary conditions. However, this does not mean that isolated systems such as molecules or atoms cannot be modelled at all. The main idea is to place such an isolated system into a (usually cubic) box of sufficient size, such that the system cannot interact with itself (across the boundary of the box and into one of the other periodic replica).\n",
    "\n",
    "We will explore this by modelling a neon atom using the following setup:"
   ]
  },
  {
   "cell_type": "code",
   "execution_count": null,
   "id": "49b6f90a",
   "metadata": {},
   "outputs": [],
   "source": [
    "using DFTK\n",
    "\n",
    "a = 4.0\n",
    "lattice = a * Matrix(I, 3, 3)  # Cubic lattice of length a in each dimension\n",
    "atoms = [ElementPsp(:Ne, psp=load_psp(\"hgh/pbe/ne-q8\"))]\n",
    "positions = [zeros(3)]  # Place atom into the middle of the box.\n",
    "\n",
    "model = model_PBE(lattice, atoms, positions)\n",
    "\n",
    "# For isolated systems it only makes sense to model the Gamma point (i.e. take kgrid=(1, 1, 1) )\n",
    "basis = PlaneWaveBasis(model; Ecut=15, kgrid=(1, 1, 1))\n",
    "\n",
    "scfres = self_consistent_field(basis; tol=1e-7);"
   ]
  },
  {
   "cell_type": "markdown",
   "id": "19a55356",
   "metadata": {},
   "source": [
    "**Exercise:**\n",
    "\n",
    "(a) A lattice constant of $a = 4.0$ Bohr is far too small to avoid spurious interactions of the neon atom with itself across the periodic boundary. Increase $a$ in steps of $1.0$ and monitor the convergence by plotting the energy differences on a semilog plot. What sizes are needed to avoid spurious interactions?\n",
    "\n",
    "(b) Modelling isolated atoms with DFT can be tricky if $p$-, $d$- or $f$-shells are half filled. To explore this consider the isolated oxygen atom. The setup is as above, but using\n",
    "```julia\n",
    "atoms = [ElementPsp(:O, psp=load_psp(\"hgh/pbe/o-q6\"))]\n",
    "```\n",
    "   You should also add a little temperature (i.e. add `temperature=1e-3` to the arguments passed to `model_PBE`). What do you observe?"
   ]
  },
  {
   "cell_type": "markdown",
   "id": "0dd82e94",
   "metadata": {},
   "source": [
    "## Modelling magnetic systems: Iron\n",
    "\n",
    "Only few compounds exhibit a natural permanent magnetism. One of these is iron, while most (like silicon) are not magnetic. This exercise tries to provide a little insight how one could understand, using DFT simulations, why this is the case.\n",
    "\n",
    "The key assumption in this exercise will be that DFT is a realistic model and that the SCF therefore finds a good approximation to the true ground state of a compound. If this ground state turns out to be magnetic, the compound should therefore feature a permanant magnetism.\n",
    "\n",
    "We use this computational setup to simulate silicon:"
   ]
  },
  {
   "cell_type": "code",
   "execution_count": null,
   "id": "79274931",
   "metadata": {},
   "outputs": [],
   "source": [
    "using DFTK\n",
    "\n",
    "a = 10.26\n",
    "lattice = a / 2 * [[0 1 1.];\n",
    "                   [1 0 1.];\n",
    "                   [1 1 0.]]\n",
    "Si = ElementPsp(:Si, psp=load_psp(\"hgh/lda/si-q4\"))\n",
    "atoms = [Si, Si]\n",
    "positions = [-ones(3)/8, ones(3)/8]\n",
    "# Note: This is essentially the same structure as the one produced by\n",
    "#     silicon = pyconvert(AbstractSystem, ase.build.bulk(\"Si\"))\n",
    "# above, just manually specifying lattice, atoms and positions.\n",
    "\n",
    "# Guess some inital magnetic moments\n",
    "# (Need to be != 0 otherwise SCF makes the assumption that the ground state is not magnetic\n",
    "#  to gain some performance ...)\n",
    "magnetic_moments = [2, 2]\n",
    "\n",
    "model  = model_LDA(lattice, atoms, positions; temperature=0.01, magnetic_moments)\n",
    "basis  = PlaneWaveBasis(model; Ecut=13, kgrid=[2, 2, 2]);\n",
    "ρ0     = guess_density(basis, magnetic_moments)\n",
    "scfres = self_consistent_field(basis; ρ=ρ0);\n",
    "scfres.energies.total"
   ]
  },
  {
   "cell_type": "markdown",
   "id": "decde440",
   "metadata": {},
   "source": [
    "Even though we have forced some magnetism into the initial density guess, this magnetisation (indicated by `Magnet`) disappears as the SCF converges. Therefore silicon appears to have a non-magnetic ground state.\n",
    "\n",
    "**Exercise:**  \n",
    "\n",
    "(i) Repeat the calculation for iron. In this case the system setup is\n",
    "```julia\n",
    "a = 5.42352  # iron lattice constant in bohr\n",
    "lattice = a / 2 * [[-1  1  1];\n",
    "                   [ 1 -1  1];\n",
    "                   [ 1  1 -1]]\n",
    "Fe = ElementPsp(:Fe, psp=load_psp(\"hgh/lda/Fe-q8.hgh\"))\n",
    "atoms = [Fe]\n",
    "positions = [zeros(3)]\n",
    "magnetic_moments = [3]\n",
    "```\n",
    "otherwise use the same settings as in the silicon calculation. Based on this calculation, what would you conclude?\n",
    "\n",
    "(ii) As it turns out too small basis sets and Brilouin-zone sampling (too small `kgrid`s) are not able to support magnetic ground states. Repeat both the silicon as well as the iron calculations for different values of `Ecut` and `kgrid` (i.e. `[1,1,1]`,`[3,3,3]`, `[4,4,4]` etc.), where in both cases larger means better. Play with these parameters to determine the first two digits of the ground state energy of silicon and iron. Based on these numerical parameters what do you conclude now?\n",
    "\n",
    "(iii) To show that a non-magnetic iron structure is actually higher in energy re-run the iron calculation with the `Ecut` and `kgrid` parameters determined in (ii), but this time set `magnetic_moments = [0]`. This enforces the SCF to converge to a non-magnetic ground state. This is why the magnetisation `Magnet` is no longer printed ... it is `0` by assumption. What is the energy difference between this non-magnetic iron ground state and the ground state you determined in (ii)?"
   ]
  },
  {
   "cell_type": "markdown",
   "id": "32a18a35",
   "metadata": {},
   "source": [
    "#### Takeaways\n",
    "- Insulators / semiconductors have a band gap\n",
    "- Metals have no band gap\n",
    "- Without a band gap (for metals) a smearing is needed to aid convergence\n",
    "\n",
    "\n",
    "- Obtaining properties accurately requires a sufficient discretisation setup. E.g. one requently mischaractarises a material (metal versus insulator, magnetism etc) if the setup is not sufficiently fine."
   ]
  }
 ],
 "metadata": {
  "kernelspec": {
   "display_name": "Julia 1.8.4",
   "language": "julia",
   "name": "julia-1.8"
  },
  "language_info": {
   "file_extension": ".jl",
   "mimetype": "application/julia",
   "name": "julia",
   "version": "1.8.4"
  }
 },
 "nbformat": 4,
 "nbformat_minor": 5
}
